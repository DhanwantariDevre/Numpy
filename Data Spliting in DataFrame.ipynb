{
 "cells": [
  {
   "cell_type": "code",
   "execution_count": 17,
   "id": "3b7746fa-725c-4a60-b2ec-972f9dbb76e5",
   "metadata": {},
   "outputs": [],
   "source": [
    "import pandas as pd"
   ]
  },
  {
   "cell_type": "code",
   "execution_count": 99,
   "id": "49241dd7-9ffe-4aac-b0f3-0de284432d32",
   "metadata": {},
   "outputs": [],
   "source": [
    "data={'Name' : ['Brahma', 'Vishnu', 'Mahesh'], \n",
    "      'Address' : [\"Brahmalok located in Brahmand, Ajmer, 01/12\",\"Vishnulok near Golok, Vrindavan, 02/12\", \"Kailash near Mountain, Shrishailam, 03/12\"],\n",
    "       'Date' : [\"13/03/2024\",\"14/05/2022\",\"30/04/2024\"],\n",
    "      'Time' : [\"10:20:30\",\"04:05:20\",\"07:40:12\"]}\n"
   ]
  },
  {
   "cell_type": "code",
   "execution_count": 101,
   "id": "cdd53633-26cd-42fd-a6b9-7e9aa1076e83",
   "metadata": {},
   "outputs": [
    {
     "data": {
      "text/plain": [
       "{'Name': ['Brahma', 'Vishnu', 'Mahesh'],\n",
       " 'Address': ['Brahmalok located in Brahmand, Ajmer, 01/12',\n",
       "  'Vishnulok near Golok, Vrindavan, 02/12',\n",
       "  'Kailash near Mountain, Shrishailam, 03/12'],\n",
       " 'Date': ['13/03/2024', '14/05/2022', '30/04/2024'],\n",
       " 'Time': ['10:20:30', '04:05:20', '07:40:12']}"
      ]
     },
     "execution_count": 101,
     "metadata": {},
     "output_type": "execute_result"
    }
   ],
   "source": [
    "data"
   ]
  },
  {
   "cell_type": "markdown",
   "id": "5cd4a843-5994-4ba5-aead-4348951c7d7b",
   "metadata": {},
   "source": [
    "## Convert data into DataFrame"
   ]
  },
  {
   "cell_type": "code",
   "execution_count": 104,
   "id": "64205b27-fbad-4b50-b04c-2db155b02c7f",
   "metadata": {},
   "outputs": [],
   "source": [
    "df=pd.DataFrame(data)"
   ]
  },
  {
   "cell_type": "code",
   "execution_count": 106,
   "id": "93a5c31b-74c0-48fa-b2f3-a672dab5e9fc",
   "metadata": {},
   "outputs": [
    {
     "data": {
      "text/html": [
       "<div>\n",
       "<style scoped>\n",
       "    .dataframe tbody tr th:only-of-type {\n",
       "        vertical-align: middle;\n",
       "    }\n",
       "\n",
       "    .dataframe tbody tr th {\n",
       "        vertical-align: top;\n",
       "    }\n",
       "\n",
       "    .dataframe thead th {\n",
       "        text-align: right;\n",
       "    }\n",
       "</style>\n",
       "<table border=\"1\" class=\"dataframe\">\n",
       "  <thead>\n",
       "    <tr style=\"text-align: right;\">\n",
       "      <th></th>\n",
       "      <th>Name</th>\n",
       "      <th>Address</th>\n",
       "      <th>Date</th>\n",
       "      <th>Time</th>\n",
       "    </tr>\n",
       "  </thead>\n",
       "  <tbody>\n",
       "    <tr>\n",
       "      <th>0</th>\n",
       "      <td>Brahma</td>\n",
       "      <td>Brahmalok located in Brahmand, Ajmer, 01/12</td>\n",
       "      <td>13/03/2024</td>\n",
       "      <td>10:20:30</td>\n",
       "    </tr>\n",
       "    <tr>\n",
       "      <th>1</th>\n",
       "      <td>Vishnu</td>\n",
       "      <td>Vishnulok near Golok, Vrindavan, 02/12</td>\n",
       "      <td>14/05/2022</td>\n",
       "      <td>04:05:20</td>\n",
       "    </tr>\n",
       "    <tr>\n",
       "      <th>2</th>\n",
       "      <td>Mahesh</td>\n",
       "      <td>Kailash near Mountain, Shrishailam, 03/12</td>\n",
       "      <td>30/04/2024</td>\n",
       "      <td>07:40:12</td>\n",
       "    </tr>\n",
       "  </tbody>\n",
       "</table>\n",
       "</div>"
      ],
      "text/plain": [
       "     Name                                      Address        Date      Time\n",
       "0  Brahma  Brahmalok located in Brahmand, Ajmer, 01/12  13/03/2024  10:20:30\n",
       "1  Vishnu       Vishnulok near Golok, Vrindavan, 02/12  14/05/2022  04:05:20\n",
       "2  Mahesh    Kailash near Mountain, Shrishailam, 03/12  30/04/2024  07:40:12"
      ]
     },
     "execution_count": 106,
     "metadata": {},
     "output_type": "execute_result"
    }
   ],
   "source": [
    "df"
   ]
  },
  {
   "cell_type": "code",
   "execution_count": 108,
   "id": "3c22fb93-60c4-43f6-80c8-3d125ea6065f",
   "metadata": {},
   "outputs": [
    {
     "data": {
      "text/plain": [
       "0    Brahmalok located in Brahmand, Ajmer, 01/12\n",
       "1         Vishnulok near Golok, Vrindavan, 02/12\n",
       "2      Kailash near Mountain, Shrishailam, 03/12\n",
       "Name: Address, dtype: object"
      ]
     },
     "execution_count": 108,
     "metadata": {},
     "output_type": "execute_result"
    }
   ],
   "source": [
    "df['Address']"
   ]
  },
  {
   "cell_type": "markdown",
   "id": "23e305a1-7fb7-4894-a265-e37636a60c17",
   "metadata": {},
   "source": [
    "### Split Address "
   ]
  },
  {
   "cell_type": "code",
   "execution_count": 111,
   "id": "50553462-a35c-4af4-8680-f1c5e833e1a2",
   "metadata": {},
   "outputs": [],
   "source": [
    "df[['Street','City','HouseNo']]=df['Address'].str.split(',',expand=True)"
   ]
  },
  {
   "cell_type": "code",
   "execution_count": 113,
   "id": "6d854963-b51b-4a0d-bce3-ff7ed43a4877",
   "metadata": {},
   "outputs": [
    {
     "data": {
      "text/plain": [
       "0    Brahmalok located in Brahmand, Ajmer, 01/12\n",
       "1         Vishnulok near Golok, Vrindavan, 02/12\n",
       "2      Kailash near Mountain, Shrishailam, 03/12\n",
       "Name: Address, dtype: object"
      ]
     },
     "execution_count": 113,
     "metadata": {},
     "output_type": "execute_result"
    }
   ],
   "source": [
    "df['Address']"
   ]
  },
  {
   "cell_type": "code",
   "execution_count": 115,
   "id": "6da24392-2b62-433c-adf5-3695d8512d57",
   "metadata": {},
   "outputs": [
    {
     "data": {
      "text/html": [
       "<div>\n",
       "<style scoped>\n",
       "    .dataframe tbody tr th:only-of-type {\n",
       "        vertical-align: middle;\n",
       "    }\n",
       "\n",
       "    .dataframe tbody tr th {\n",
       "        vertical-align: top;\n",
       "    }\n",
       "\n",
       "    .dataframe thead th {\n",
       "        text-align: right;\n",
       "    }\n",
       "</style>\n",
       "<table border=\"1\" class=\"dataframe\">\n",
       "  <thead>\n",
       "    <tr style=\"text-align: right;\">\n",
       "      <th></th>\n",
       "      <th>Name</th>\n",
       "      <th>Address</th>\n",
       "      <th>Date</th>\n",
       "      <th>Time</th>\n",
       "      <th>Street</th>\n",
       "      <th>City</th>\n",
       "      <th>HouseNo</th>\n",
       "    </tr>\n",
       "  </thead>\n",
       "  <tbody>\n",
       "    <tr>\n",
       "      <th>0</th>\n",
       "      <td>Brahma</td>\n",
       "      <td>Brahmalok located in Brahmand, Ajmer, 01/12</td>\n",
       "      <td>13/03/2024</td>\n",
       "      <td>10:20:30</td>\n",
       "      <td>Brahmalok located in Brahmand</td>\n",
       "      <td>Ajmer</td>\n",
       "      <td>01/12</td>\n",
       "    </tr>\n",
       "    <tr>\n",
       "      <th>1</th>\n",
       "      <td>Vishnu</td>\n",
       "      <td>Vishnulok near Golok, Vrindavan, 02/12</td>\n",
       "      <td>14/05/2022</td>\n",
       "      <td>04:05:20</td>\n",
       "      <td>Vishnulok near Golok</td>\n",
       "      <td>Vrindavan</td>\n",
       "      <td>02/12</td>\n",
       "    </tr>\n",
       "    <tr>\n",
       "      <th>2</th>\n",
       "      <td>Mahesh</td>\n",
       "      <td>Kailash near Mountain, Shrishailam, 03/12</td>\n",
       "      <td>30/04/2024</td>\n",
       "      <td>07:40:12</td>\n",
       "      <td>Kailash near Mountain</td>\n",
       "      <td>Shrishailam</td>\n",
       "      <td>03/12</td>\n",
       "    </tr>\n",
       "  </tbody>\n",
       "</table>\n",
       "</div>"
      ],
      "text/plain": [
       "     Name                                      Address        Date      Time  \\\n",
       "0  Brahma  Brahmalok located in Brahmand, Ajmer, 01/12  13/03/2024  10:20:30   \n",
       "1  Vishnu       Vishnulok near Golok, Vrindavan, 02/12  14/05/2022  04:05:20   \n",
       "2  Mahesh    Kailash near Mountain, Shrishailam, 03/12  30/04/2024  07:40:12   \n",
       "\n",
       "                          Street          City HouseNo  \n",
       "0  Brahmalok located in Brahmand         Ajmer   01/12  \n",
       "1           Vishnulok near Golok     Vrindavan   02/12  \n",
       "2          Kailash near Mountain   Shrishailam   03/12  "
      ]
     },
     "execution_count": 115,
     "metadata": {},
     "output_type": "execute_result"
    }
   ],
   "source": [
    "df"
   ]
  },
  {
   "cell_type": "code",
   "execution_count": 117,
   "id": "c973b543-5cb0-4b82-b46e-584552889e20",
   "metadata": {},
   "outputs": [
    {
     "data": {
      "text/plain": [
       "0    13/03/2024\n",
       "1    14/05/2022\n",
       "2    30/04/2024\n",
       "Name: Date, dtype: object"
      ]
     },
     "execution_count": 117,
     "metadata": {},
     "output_type": "execute_result"
    }
   ],
   "source": [
    "df['Date']"
   ]
  },
  {
   "cell_type": "markdown",
   "id": "57953507-b64b-4b83-9f84-979fa4034056",
   "metadata": {},
   "source": [
    "### Split the Date"
   ]
  },
  {
   "cell_type": "code",
   "execution_count": 120,
   "id": "14e118f3-ec94-478f-92db-871e477c4f9c",
   "metadata": {},
   "outputs": [],
   "source": [
    "df[['Day','Month','Year']]=df['Date'].str.split('/',expand=True)"
   ]
  },
  {
   "cell_type": "code",
   "execution_count": 122,
   "id": "8ef3ed33-84fc-4607-8601-4b3cf97017ad",
   "metadata": {},
   "outputs": [
    {
     "data": {
      "text/html": [
       "<div>\n",
       "<style scoped>\n",
       "    .dataframe tbody tr th:only-of-type {\n",
       "        vertical-align: middle;\n",
       "    }\n",
       "\n",
       "    .dataframe tbody tr th {\n",
       "        vertical-align: top;\n",
       "    }\n",
       "\n",
       "    .dataframe thead th {\n",
       "        text-align: right;\n",
       "    }\n",
       "</style>\n",
       "<table border=\"1\" class=\"dataframe\">\n",
       "  <thead>\n",
       "    <tr style=\"text-align: right;\">\n",
       "      <th></th>\n",
       "      <th>Name</th>\n",
       "      <th>Address</th>\n",
       "      <th>Date</th>\n",
       "      <th>Time</th>\n",
       "      <th>Street</th>\n",
       "      <th>City</th>\n",
       "      <th>HouseNo</th>\n",
       "      <th>Day</th>\n",
       "      <th>Month</th>\n",
       "      <th>Year</th>\n",
       "    </tr>\n",
       "  </thead>\n",
       "  <tbody>\n",
       "    <tr>\n",
       "      <th>0</th>\n",
       "      <td>Brahma</td>\n",
       "      <td>Brahmalok located in Brahmand, Ajmer, 01/12</td>\n",
       "      <td>13/03/2024</td>\n",
       "      <td>10:20:30</td>\n",
       "      <td>Brahmalok located in Brahmand</td>\n",
       "      <td>Ajmer</td>\n",
       "      <td>01/12</td>\n",
       "      <td>13</td>\n",
       "      <td>03</td>\n",
       "      <td>2024</td>\n",
       "    </tr>\n",
       "    <tr>\n",
       "      <th>1</th>\n",
       "      <td>Vishnu</td>\n",
       "      <td>Vishnulok near Golok, Vrindavan, 02/12</td>\n",
       "      <td>14/05/2022</td>\n",
       "      <td>04:05:20</td>\n",
       "      <td>Vishnulok near Golok</td>\n",
       "      <td>Vrindavan</td>\n",
       "      <td>02/12</td>\n",
       "      <td>14</td>\n",
       "      <td>05</td>\n",
       "      <td>2022</td>\n",
       "    </tr>\n",
       "    <tr>\n",
       "      <th>2</th>\n",
       "      <td>Mahesh</td>\n",
       "      <td>Kailash near Mountain, Shrishailam, 03/12</td>\n",
       "      <td>30/04/2024</td>\n",
       "      <td>07:40:12</td>\n",
       "      <td>Kailash near Mountain</td>\n",
       "      <td>Shrishailam</td>\n",
       "      <td>03/12</td>\n",
       "      <td>30</td>\n",
       "      <td>04</td>\n",
       "      <td>2024</td>\n",
       "    </tr>\n",
       "  </tbody>\n",
       "</table>\n",
       "</div>"
      ],
      "text/plain": [
       "     Name                                      Address        Date      Time  \\\n",
       "0  Brahma  Brahmalok located in Brahmand, Ajmer, 01/12  13/03/2024  10:20:30   \n",
       "1  Vishnu       Vishnulok near Golok, Vrindavan, 02/12  14/05/2022  04:05:20   \n",
       "2  Mahesh    Kailash near Mountain, Shrishailam, 03/12  30/04/2024  07:40:12   \n",
       "\n",
       "                          Street          City HouseNo Day Month  Year  \n",
       "0  Brahmalok located in Brahmand         Ajmer   01/12  13    03  2024  \n",
       "1           Vishnulok near Golok     Vrindavan   02/12  14    05  2022  \n",
       "2          Kailash near Mountain   Shrishailam   03/12  30    04  2024  "
      ]
     },
     "execution_count": 122,
     "metadata": {},
     "output_type": "execute_result"
    }
   ],
   "source": [
    "df"
   ]
  },
  {
   "cell_type": "markdown",
   "id": "c4f94725-e092-4055-bdff-fcc24e0077ad",
   "metadata": {},
   "source": [
    "### Split the Time"
   ]
  },
  {
   "cell_type": "code",
   "execution_count": 124,
   "id": "4a41a743-8e86-4afc-82f5-ddfd20efcfb3",
   "metadata": {},
   "outputs": [],
   "source": [
    "df[['Hours','Minutes','Seconds']]=df['Time'].str.split(':',expand=True)"
   ]
  },
  {
   "cell_type": "code",
   "execution_count": 126,
   "id": "e037c4a0-96af-47ae-9c81-dba65217de7f",
   "metadata": {},
   "outputs": [
    {
     "data": {
      "text/html": [
       "<div>\n",
       "<style scoped>\n",
       "    .dataframe tbody tr th:only-of-type {\n",
       "        vertical-align: middle;\n",
       "    }\n",
       "\n",
       "    .dataframe tbody tr th {\n",
       "        vertical-align: top;\n",
       "    }\n",
       "\n",
       "    .dataframe thead th {\n",
       "        text-align: right;\n",
       "    }\n",
       "</style>\n",
       "<table border=\"1\" class=\"dataframe\">\n",
       "  <thead>\n",
       "    <tr style=\"text-align: right;\">\n",
       "      <th></th>\n",
       "      <th>Name</th>\n",
       "      <th>Address</th>\n",
       "      <th>Date</th>\n",
       "      <th>Time</th>\n",
       "      <th>Street</th>\n",
       "      <th>City</th>\n",
       "      <th>HouseNo</th>\n",
       "      <th>Day</th>\n",
       "      <th>Month</th>\n",
       "      <th>Year</th>\n",
       "      <th>Hours</th>\n",
       "      <th>Minutes</th>\n",
       "      <th>Seconds</th>\n",
       "    </tr>\n",
       "  </thead>\n",
       "  <tbody>\n",
       "    <tr>\n",
       "      <th>0</th>\n",
       "      <td>Brahma</td>\n",
       "      <td>Brahmalok located in Brahmand, Ajmer, 01/12</td>\n",
       "      <td>13/03/2024</td>\n",
       "      <td>10:20:30</td>\n",
       "      <td>Brahmalok located in Brahmand</td>\n",
       "      <td>Ajmer</td>\n",
       "      <td>01/12</td>\n",
       "      <td>13</td>\n",
       "      <td>03</td>\n",
       "      <td>2024</td>\n",
       "      <td>10</td>\n",
       "      <td>20</td>\n",
       "      <td>30</td>\n",
       "    </tr>\n",
       "    <tr>\n",
       "      <th>1</th>\n",
       "      <td>Vishnu</td>\n",
       "      <td>Vishnulok near Golok, Vrindavan, 02/12</td>\n",
       "      <td>14/05/2022</td>\n",
       "      <td>04:05:20</td>\n",
       "      <td>Vishnulok near Golok</td>\n",
       "      <td>Vrindavan</td>\n",
       "      <td>02/12</td>\n",
       "      <td>14</td>\n",
       "      <td>05</td>\n",
       "      <td>2022</td>\n",
       "      <td>04</td>\n",
       "      <td>05</td>\n",
       "      <td>20</td>\n",
       "    </tr>\n",
       "    <tr>\n",
       "      <th>2</th>\n",
       "      <td>Mahesh</td>\n",
       "      <td>Kailash near Mountain, Shrishailam, 03/12</td>\n",
       "      <td>30/04/2024</td>\n",
       "      <td>07:40:12</td>\n",
       "      <td>Kailash near Mountain</td>\n",
       "      <td>Shrishailam</td>\n",
       "      <td>03/12</td>\n",
       "      <td>30</td>\n",
       "      <td>04</td>\n",
       "      <td>2024</td>\n",
       "      <td>07</td>\n",
       "      <td>40</td>\n",
       "      <td>12</td>\n",
       "    </tr>\n",
       "  </tbody>\n",
       "</table>\n",
       "</div>"
      ],
      "text/plain": [
       "     Name                                      Address        Date      Time  \\\n",
       "0  Brahma  Brahmalok located in Brahmand, Ajmer, 01/12  13/03/2024  10:20:30   \n",
       "1  Vishnu       Vishnulok near Golok, Vrindavan, 02/12  14/05/2022  04:05:20   \n",
       "2  Mahesh    Kailash near Mountain, Shrishailam, 03/12  30/04/2024  07:40:12   \n",
       "\n",
       "                          Street          City HouseNo Day Month  Year Hours  \\\n",
       "0  Brahmalok located in Brahmand         Ajmer   01/12  13    03  2024    10   \n",
       "1           Vishnulok near Golok     Vrindavan   02/12  14    05  2022    04   \n",
       "2          Kailash near Mountain   Shrishailam   03/12  30    04  2024    07   \n",
       "\n",
       "  Minutes Seconds  \n",
       "0      20      30  \n",
       "1      05      20  \n",
       "2      40      12  "
      ]
     },
     "execution_count": 126,
     "metadata": {},
     "output_type": "execute_result"
    }
   ],
   "source": [
    "df"
   ]
  },
  {
   "cell_type": "markdown",
   "id": "4c0d0d7d-9d6e-4d21-813a-ad56f59bf858",
   "metadata": {},
   "source": [
    "# Drop Original Columns"
   ]
  },
  {
   "cell_type": "code",
   "execution_count": 132,
   "id": "86e98e3c-09b1-4c02-b02b-e66db6f73c90",
   "metadata": {},
   "outputs": [],
   "source": [
    "df=df.drop(columns=['Address'])"
   ]
  },
  {
   "cell_type": "code",
   "execution_count": 134,
   "id": "490de56b-0e86-4a0c-8501-71bdf868c162",
   "metadata": {},
   "outputs": [
    {
     "data": {
      "text/html": [
       "<div>\n",
       "<style scoped>\n",
       "    .dataframe tbody tr th:only-of-type {\n",
       "        vertical-align: middle;\n",
       "    }\n",
       "\n",
       "    .dataframe tbody tr th {\n",
       "        vertical-align: top;\n",
       "    }\n",
       "\n",
       "    .dataframe thead th {\n",
       "        text-align: right;\n",
       "    }\n",
       "</style>\n",
       "<table border=\"1\" class=\"dataframe\">\n",
       "  <thead>\n",
       "    <tr style=\"text-align: right;\">\n",
       "      <th></th>\n",
       "      <th>Name</th>\n",
       "      <th>Date</th>\n",
       "      <th>Time</th>\n",
       "      <th>Street</th>\n",
       "      <th>City</th>\n",
       "      <th>HouseNo</th>\n",
       "      <th>Day</th>\n",
       "      <th>Month</th>\n",
       "      <th>Year</th>\n",
       "      <th>Hours</th>\n",
       "      <th>Minutes</th>\n",
       "      <th>Seconds</th>\n",
       "    </tr>\n",
       "  </thead>\n",
       "  <tbody>\n",
       "    <tr>\n",
       "      <th>0</th>\n",
       "      <td>Brahma</td>\n",
       "      <td>13/03/2024</td>\n",
       "      <td>10:20:30</td>\n",
       "      <td>Brahmalok located in Brahmand</td>\n",
       "      <td>Ajmer</td>\n",
       "      <td>01/12</td>\n",
       "      <td>13</td>\n",
       "      <td>03</td>\n",
       "      <td>2024</td>\n",
       "      <td>10</td>\n",
       "      <td>20</td>\n",
       "      <td>30</td>\n",
       "    </tr>\n",
       "    <tr>\n",
       "      <th>1</th>\n",
       "      <td>Vishnu</td>\n",
       "      <td>14/05/2022</td>\n",
       "      <td>04:05:20</td>\n",
       "      <td>Vishnulok near Golok</td>\n",
       "      <td>Vrindavan</td>\n",
       "      <td>02/12</td>\n",
       "      <td>14</td>\n",
       "      <td>05</td>\n",
       "      <td>2022</td>\n",
       "      <td>04</td>\n",
       "      <td>05</td>\n",
       "      <td>20</td>\n",
       "    </tr>\n",
       "    <tr>\n",
       "      <th>2</th>\n",
       "      <td>Mahesh</td>\n",
       "      <td>30/04/2024</td>\n",
       "      <td>07:40:12</td>\n",
       "      <td>Kailash near Mountain</td>\n",
       "      <td>Shrishailam</td>\n",
       "      <td>03/12</td>\n",
       "      <td>30</td>\n",
       "      <td>04</td>\n",
       "      <td>2024</td>\n",
       "      <td>07</td>\n",
       "      <td>40</td>\n",
       "      <td>12</td>\n",
       "    </tr>\n",
       "  </tbody>\n",
       "</table>\n",
       "</div>"
      ],
      "text/plain": [
       "     Name        Date      Time                         Street          City  \\\n",
       "0  Brahma  13/03/2024  10:20:30  Brahmalok located in Brahmand         Ajmer   \n",
       "1  Vishnu  14/05/2022  04:05:20           Vishnulok near Golok     Vrindavan   \n",
       "2  Mahesh  30/04/2024  07:40:12          Kailash near Mountain   Shrishailam   \n",
       "\n",
       "  HouseNo Day Month  Year Hours Minutes Seconds  \n",
       "0   01/12  13    03  2024    10      20      30  \n",
       "1   02/12  14    05  2022    04      05      20  \n",
       "2   03/12  30    04  2024    07      40      12  "
      ]
     },
     "execution_count": 134,
     "metadata": {},
     "output_type": "execute_result"
    }
   ],
   "source": [
    "df"
   ]
  },
  {
   "cell_type": "code",
   "execution_count": 138,
   "id": "054005c0-11b1-4bcb-ba69-0799aa0229c5",
   "metadata": {},
   "outputs": [],
   "source": [
    "df=df.drop(columns=['Date'])\n",
    "df=df.drop(columns=['Time'])"
   ]
  },
  {
   "cell_type": "code",
   "execution_count": 140,
   "id": "9d1c2b88-2602-42bb-a94b-414666967375",
   "metadata": {},
   "outputs": [
    {
     "data": {
      "text/html": [
       "<div>\n",
       "<style scoped>\n",
       "    .dataframe tbody tr th:only-of-type {\n",
       "        vertical-align: middle;\n",
       "    }\n",
       "\n",
       "    .dataframe tbody tr th {\n",
       "        vertical-align: top;\n",
       "    }\n",
       "\n",
       "    .dataframe thead th {\n",
       "        text-align: right;\n",
       "    }\n",
       "</style>\n",
       "<table border=\"1\" class=\"dataframe\">\n",
       "  <thead>\n",
       "    <tr style=\"text-align: right;\">\n",
       "      <th></th>\n",
       "      <th>Name</th>\n",
       "      <th>Street</th>\n",
       "      <th>City</th>\n",
       "      <th>HouseNo</th>\n",
       "      <th>Day</th>\n",
       "      <th>Month</th>\n",
       "      <th>Year</th>\n",
       "      <th>Hours</th>\n",
       "      <th>Minutes</th>\n",
       "      <th>Seconds</th>\n",
       "    </tr>\n",
       "  </thead>\n",
       "  <tbody>\n",
       "    <tr>\n",
       "      <th>0</th>\n",
       "      <td>Brahma</td>\n",
       "      <td>Brahmalok located in Brahmand</td>\n",
       "      <td>Ajmer</td>\n",
       "      <td>01/12</td>\n",
       "      <td>13</td>\n",
       "      <td>03</td>\n",
       "      <td>2024</td>\n",
       "      <td>10</td>\n",
       "      <td>20</td>\n",
       "      <td>30</td>\n",
       "    </tr>\n",
       "    <tr>\n",
       "      <th>1</th>\n",
       "      <td>Vishnu</td>\n",
       "      <td>Vishnulok near Golok</td>\n",
       "      <td>Vrindavan</td>\n",
       "      <td>02/12</td>\n",
       "      <td>14</td>\n",
       "      <td>05</td>\n",
       "      <td>2022</td>\n",
       "      <td>04</td>\n",
       "      <td>05</td>\n",
       "      <td>20</td>\n",
       "    </tr>\n",
       "    <tr>\n",
       "      <th>2</th>\n",
       "      <td>Mahesh</td>\n",
       "      <td>Kailash near Mountain</td>\n",
       "      <td>Shrishailam</td>\n",
       "      <td>03/12</td>\n",
       "      <td>30</td>\n",
       "      <td>04</td>\n",
       "      <td>2024</td>\n",
       "      <td>07</td>\n",
       "      <td>40</td>\n",
       "      <td>12</td>\n",
       "    </tr>\n",
       "  </tbody>\n",
       "</table>\n",
       "</div>"
      ],
      "text/plain": [
       "     Name                         Street          City HouseNo Day Month  \\\n",
       "0  Brahma  Brahmalok located in Brahmand         Ajmer   01/12  13    03   \n",
       "1  Vishnu           Vishnulok near Golok     Vrindavan   02/12  14    05   \n",
       "2  Mahesh          Kailash near Mountain   Shrishailam   03/12  30    04   \n",
       "\n",
       "   Year Hours Minutes Seconds  \n",
       "0  2024    10      20      30  \n",
       "1  2022    04      05      20  \n",
       "2  2024    07      40      12  "
      ]
     },
     "execution_count": 140,
     "metadata": {},
     "output_type": "execute_result"
    }
   ],
   "source": [
    "df"
   ]
  },
  {
   "cell_type": "code",
   "execution_count": null,
   "id": "b3f075a3-ffbb-4544-b892-27cf7dc16800",
   "metadata": {},
   "outputs": [],
   "source": []
  }
 ],
 "metadata": {
  "kernelspec": {
   "display_name": "Python 3 (ipykernel)",
   "language": "python",
   "name": "python3"
  },
  "language_info": {
   "codemirror_mode": {
    "name": "ipython",
    "version": 3
   },
   "file_extension": ".py",
   "mimetype": "text/x-python",
   "name": "python",
   "nbconvert_exporter": "python",
   "pygments_lexer": "ipython3",
   "version": "3.12.7"
  }
 },
 "nbformat": 4,
 "nbformat_minor": 5
}
